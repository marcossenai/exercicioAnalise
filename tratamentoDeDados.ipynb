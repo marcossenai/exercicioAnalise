{
 "cells": [
  {
   "cell_type": "code",
   "execution_count": null,
   "metadata": {},
   "outputs": [],
   "source": [
    "import pandas as pd\n",
    "\n",
    "df = pd.read_excel('vendas.xlsx')\n",
    "display(df)"
   ]
  },
  {
   "cell_type": "code",
   "execution_count": null,
   "metadata": {},
   "outputs": [],
   "source": [
    "#1.Padronizar a coluna 'categoria' para minúsculas.\n",
    "\n",
    "df['categoria'] = df['categoria'].str.lower()\n",
    "display(df)"
   ]
  },
  {
   "cell_type": "code",
   "execution_count": null,
   "metadata": {},
   "outputs": [],
   "source": [
    "#2.Remover registros onde a quantidade está ausente\n",
    "\n",
    "df_sem_nulos = df['quantidade'].dropna()\n",
    "display(df_sem_nulos)"
   ]
  },
  {
   "cell_type": "code",
   "execution_count": null,
   "metadata": {},
   "outputs": [],
   "source": [
    "#3.Remover espaços extras e padronizar com primeira letra maiúscula (estilo título)\n",
    "df['loja'] = df['loja'].str.title()\n",
    "df['categoria'] = df['categoria'].str.title()\n",
    "df['produto'] = df['produto'].str.title()\n",
    "\n",
    "df['loja'] = df['loja'].str.strip()\n",
    "df['categoria'] = df['categoria'].str.strip()\n",
    "df['produto'] = df['produto'].str.strip()\n",
    "\n",
    "display(df)"
   ]
  },
  {
   "cell_type": "code",
   "execution_count": null,
   "metadata": {},
   "outputs": [],
   "source": [
    "#4. Garantir que a coluna data seja datetime\n",
    "df['data'] = pd.to_datetime(df['data'])\n",
    "display(df)"
   ]
  },
  {
   "cell_type": "code",
   "execution_count": null,
   "metadata": {},
   "outputs": [],
   "source": [
    "#5. "
   ]
  }
 ],
 "metadata": {
  "kernelspec": {
   "display_name": "Python 3",
   "language": "python",
   "name": "python3"
  },
  "language_info": {
   "codemirror_mode": {
    "name": "ipython",
    "version": 3
   },
   "file_extension": ".py",
   "mimetype": "text/x-python",
   "name": "python",
   "nbconvert_exporter": "python",
   "pygments_lexer": "ipython3",
   "version": "3.12.1"
  }
 },
 "nbformat": 4,
 "nbformat_minor": 2
}
