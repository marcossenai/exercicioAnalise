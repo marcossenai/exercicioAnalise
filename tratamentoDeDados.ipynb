{
 "cells": [
  {
   "cell_type": "code",
   "execution_count": null,
   "metadata": {},
   "outputs": [],
   "source": [
    "import pandas as pd\n",
    "\n",
    "df = pd.read_excel('vendas.xlsx')\n",
    "display(df)"
   ]
  },
  {
   "cell_type": "code",
   "execution_count": null,
   "metadata": {},
   "outputs": [],
   "source": [
    "#1.Padronizar a coluna 'categoria' para minúsculas.\n",
    "\n",
    "df['categoria'] = df['categoria'].str.lower()\n",
    "display(df)"
   ]
  },
  {
   "cell_type": "code",
   "execution_count": null,
   "metadata": {},
   "outputs": [],
   "source": [
    "#2.Remover registros onde a quantidade está ausente\n",
    "\n",
    "df = df[df['quantidade'].notna()]\n",
    "display(df)"
   ]
  },
  {
   "cell_type": "code",
   "execution_count": null,
   "metadata": {},
   "outputs": [],
   "source": [
    "#3.Remover espaços extras e padronizar com primeira letra maiúscula (estilo título)\n",
    "df['loja'] = df['loja'].str.title()\n",
    "df['categoria'] = df['categoria'].str.title()\n",
    "df['produto'] = df['produto'].str.title()\n",
    "\n",
    "df['loja'] = df['loja'].str.strip()\n",
    "df['categoria'] = df['categoria'].str.strip()\n",
    "df['produto'] = df['produto'].str.strip()\n",
    "\n",
    "display(df)"
   ]
  },
  {
   "cell_type": "code",
   "execution_count": null,
   "metadata": {},
   "outputs": [],
   "source": [
    "#4. Garantir que a coluna data seja datetime\n",
    "df['data'] = pd.to_datetime(df['data'])\n",
    "display(df)"
   ]
  },
  {
   "cell_type": "code",
   "execution_count": null,
   "metadata": {},
   "outputs": [],
   "source": [
    "#5. Calcular valor unitário real das vendas válidas\n",
    "df.loc[(df['quantidade'] > 0) & df['valor_venda'].notna(), 'valor_unitario_real'] = df['valor_venda'] / df['quantidade']\n",
    "display(df)"
   ]
  },
  {
   "cell_type": "code",
   "execution_count": null,
   "metadata": {},
   "outputs": [],
   "source": [
    "#6 .Calcular valor médio unitário por produto (sem considerar nulos)\n",
    "valor_medio_por_produto = df.groupby('produto')['valor_unitario_real'].mean().dropna().reset_index()\n",
    "display(valor_medio_por_produto.style.format({'valor_unitario_real': '{:.2f}'}))\n"
   ]
  },
  {
   "cell_type": "code",
   "execution_count": null,
   "metadata": {},
   "outputs": [],
   "source": [
    "#7. Agrupar e calcular média\n",
    "valor_medio_por_produto = df.groupby('produto')['valor_unitario_real'].mean().reset_index()\n",
    "display(df)\n",
    "\n"
   ]
  },
  {
   "cell_type": "code",
   "execution_count": null,
   "metadata": {},
   "outputs": [],
   "source": [
    "#8. Preencher valor_unitario ausente\n",
    "medias_por_produto = df.groupby('produto')['valor_unitario_real'].mean()  \n",
    "df['valor_unitario_real'] = df['valor_unitario_real'].fillna(df['produto'].map(medias_por_produto))\n",
    "\n",
    "display(df)"
   ]
  },
  {
   "cell_type": "code",
   "execution_count": null,
   "metadata": {},
   "outputs": [],
   "source": [
    "#9. Recalcular valor_venda\n",
    "df['valor_venda'] = df['quantidade'] * df['valor_unitario_real']\n",
    "display(df)"
   ]
  },
  {
   "cell_type": "code",
   "execution_count": null,
   "metadata": {},
   "outputs": [],
   "source": [
    "df.to_excel('vendas_limpo.xlsx', index=False)"
   ]
  }
 ],
 "metadata": {
  "kernelspec": {
   "display_name": "Python 3",
   "language": "python",
   "name": "python3"
  },
  "language_info": {
   "codemirror_mode": {
    "name": "ipython",
    "version": 3
   },
   "file_extension": ".py",
   "mimetype": "text/x-python",
   "name": "python",
   "nbconvert_exporter": "python",
   "pygments_lexer": "ipython3",
   "version": "3.12.1"
  }
 },
 "nbformat": 4,
 "nbformat_minor": 2
}
