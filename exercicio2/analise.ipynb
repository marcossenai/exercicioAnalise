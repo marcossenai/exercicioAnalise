{
 "cells": [
  {
   "cell_type": "code",
   "execution_count": null,
   "metadata": {},
   "outputs": [],
   "source": [
    "#Respostas para as perguntas ANALISE DESCRITIVA AVANÇADA\n",
    "\n",
    "#1 as evasões de cada departamento foram:\n",
    "# Financeireo: 4, Marketing: 6, Operações: 4, Rh: 3, Ti: 1, Vendas: 3\n",
    "\n",
    "#2 evasões pelo turno da tarde:\n",
    "# o total de evasões no turno da tarde foi de 8.85%\n",
    "\n",
    "#3 desvio padrão entre a tarde e a media geral:\n",
    "# ha um desvio muito pequeno entre a méda geral e o turno da tarde"
   ]
  },
  {
   "cell_type": "code",
   "execution_count": 48,
   "metadata": {},
   "outputs": [
    {
     "data": {
      "text/plain": [
       "Departamento\n",
       "Financeiro    4\n",
       "Marketing     6\n",
       "Operações     4\n",
       "RH            3\n",
       "TI            1\n",
       "Vendas        3\n",
       "dtype: int64"
      ]
     },
     "metadata": {},
     "output_type": "display_data"
    }
   ],
   "source": [
    "# Número total de evasões por departamento\n",
    "evasoes = df[df['Evadiu'] == 'Sim']\n",
    "display(evasoes.groupby('Departamento').size())"
   ]
  },
  {
   "cell_type": "code",
   "execution_count": 49,
   "metadata": {},
   "outputs": [
    {
     "name": "stdout",
     "output_type": "stream",
     "text": [
      "Porcentagem de evasões à tarde: 8.85%\n"
     ]
    }
   ],
   "source": [
    "# considerando evasões apenas no turno da tarde\n",
    "total_tarde = df[(df['Turno'] == 'Tarde')].shape[0]\n",
    "evasoes_tarde = df[(df['Evadiu'] == 'Sim') & (df['Turno'] == 'Tarde')].shape[0]\n",
    "\n",
    "porcentagem_evasoes_tarde = (evasoes_tarde * 100) / total_tarde\n",
    "\n",
    "print(f'Porcentagem de evasões à tarde: {porcentagem_evasoes_tarde:.2f}%')"
   ]
  },
  {
   "cell_type": "code",
   "execution_count": 50,
   "metadata": {},
   "outputs": [
    {
     "data": {
      "text/plain": [
       "Turno\n",
       "Manhã    1.376872\n",
       "Tarde    1.430269\n",
       "Name: Faltas, dtype: float64"
      ]
     },
     "metadata": {},
     "output_type": "display_data"
    },
    {
     "name": "stdout",
     "output_type": "stream",
     "text": [
      "Turno\n",
      "Manhã    1.905660\n",
      "Tarde    1.911504\n",
      "Name: Faltas, dtype: float64\n"
     ]
    }
   ],
   "source": [
    "# desvio padrão (usando a media para coparação)\n",
    "\n",
    "desvio_padrao_turno = df.groupby('Turno')['Faltas'].std()\n",
    "\n",
    "display(desvio_padrao_turno)\n",
    "\n",
    "print(df.groupby('Turno')['Faltas'].mean())"
   ]
  },
  {
   "cell_type": "code",
   "execution_count": null,
   "metadata": {},
   "outputs": [],
   "source": [
    "#Respostas para as perguntas ANALISE TEMPORAL\n",
    "\n",
    "#1 mês com o maior numero de faltas:\n",
    "# o mês de março conteve o maior número de faltas com 161 faltas, seguido de fevereiro com 134 faltas e janeiro com 123 faltas\n",
    "\n",
    "#2 analise da semana com maior numero de faltas:\n",
    "# a semana com o maior numero de faltas foi do dia 18 a 24 de Março, com 57 faltas \n",
    "\n",
    "#3 analise do dia com mais faltas:\n",
    "# o dia que contem mais faltas é segunda-feira, contando com 146 faltas"
   ]
  },
  {
   "cell_type": "code",
   "execution_count": 51,
   "metadata": {},
   "outputs": [
    {
     "data": {
      "text/plain": [
       "Mes_Falta\n",
       "2024-01    123.0\n",
       "2024-02    134.0\n",
       "2024-03    161.0\n",
       "Freq: M, Name: Faltas, dtype: float64"
      ]
     },
     "metadata": {},
     "output_type": "display_data"
    }
   ],
   "source": [
    "# mes com o maior numero de faltas\n",
    "\n",
    "df_falta = df\n",
    "df_falta['Mes_Falta'] = df_falta['Data_Ultima_Falta'].dt.to_period('M')\n",
    "faltas_mes = df_falta.groupby('Mes_Falta')['Faltas'].sum()\n",
    "\n",
    "display(faltas_mes)"
   ]
  },
  {
   "cell_type": "code",
   "execution_count": 52,
   "metadata": {},
   "outputs": [
    {
     "data": {
      "text/plain": [
       "Semana_Ultima_Falta\n",
       "2024-01-29/2024-02-04    21.0\n",
       "2024-01-22/2024-01-28    23.0\n",
       "2024-03-04/2024-03-10    24.0\n",
       "2024-02-12/2024-02-18    29.0\n",
       "2024-01-15/2024-01-21    30.0\n",
       "2024-01-08/2024-01-14    30.0\n",
       "2024-02-26/2024-03-03    31.0\n",
       "2024-01-01/2024-01-07    33.0\n",
       "2024-03-11/2024-03-17    33.0\n",
       "2024-02-19/2024-02-25    33.0\n",
       "2024-03-25/2024-03-31    36.0\n",
       "2024-02-05/2024-02-11    38.0\n",
       "2024-03-18/2024-03-24    57.0\n",
       "Freq: W-SUN, Name: Faltas, dtype: float64"
      ]
     },
     "metadata": {},
     "output_type": "display_data"
    }
   ],
   "source": [
    "# criando coluna com semanas aonde ha mais faltas \n",
    "\n",
    "df_falta['Semana_Ultima_Falta'] = df_falta['Data_Ultima_Falta'].dt.to_period('W')\n",
    "\n",
    "faltas_por_semana = df_falta.groupby('Semana_Ultima_Falta')['Faltas'].sum()\n",
    "\n",
    "display(faltas_por_semana.sort_values())"
   ]
  },
  {
   "cell_type": "code",
   "execution_count": 53,
   "metadata": {},
   "outputs": [
    {
     "data": {
      "text/plain": [
       "Dia_da_Semana_Ultima_Falta\n",
       "Segunda    146.0\n",
       "Terça       59.0\n",
       "Quarta      74.0\n",
       "Quinta      78.0\n",
       "Sexta       61.0\n",
       "Name: Faltas, dtype: float64"
      ]
     },
     "metadata": {},
     "output_type": "display_data"
    }
   ],
   "source": [
    "#cruzando dias das semanas com a quantidade de evasões\n",
    "\n",
    "relacao_dia_da_semana_e_quantidade_evasoes = df_falta.groupby('Dia_da_Semana_Ultima_Falta')['Faltas'].sum()\n",
    "\n",
    "ordem_dias_uteis = ['Segunda', 'Terça', 'Quarta', 'Quinta', 'Sexta']\n",
    "relacao_dia_da_semana_e_quantidade_evasoes = relacao_dia_da_semana_e_quantidade_evasoes.reindex(ordem_dias_uteis)\n",
    "\n",
    "display(relacao_dia_da_semana_e_quantidade_evasoes)"
   ]
  },
  {
   "cell_type": "code",
   "execution_count": 54,
   "metadata": {},
   "outputs": [
    {
     "data": {
      "text/html": [
       "<div>\n",
       "<style scoped>\n",
       "    .dataframe tbody tr th:only-of-type {\n",
       "        vertical-align: middle;\n",
       "    }\n",
       "\n",
       "    .dataframe tbody tr th {\n",
       "        vertical-align: top;\n",
       "    }\n",
       "\n",
       "    .dataframe thead th {\n",
       "        text-align: right;\n",
       "    }\n",
       "</style>\n",
       "<table border=\"1\" class=\"dataframe\">\n",
       "  <thead>\n",
       "    <tr style=\"text-align: right;\">\n",
       "      <th></th>\n",
       "      <th>Nome</th>\n",
       "      <th>Departamento</th>\n",
       "      <th>Turno</th>\n",
       "      <th>Faltas</th>\n",
       "      <th>Dia_da_Semana_Ultima_Falta</th>\n",
       "      <th>Data_Ultima_Falta</th>\n",
       "      <th>Evadiu</th>\n",
       "      <th>Faltas_Suspeitas</th>\n",
       "      <th>Mes_Falta</th>\n",
       "      <th>Semana_Ultima_Falta</th>\n",
       "      <th>Risco_Evasao</th>\n",
       "    </tr>\n",
       "  </thead>\n",
       "  <tbody>\n",
       "    <tr>\n",
       "      <th>0</th>\n",
       "      <td>Colaborador_001</td>\n",
       "      <td>Operações</td>\n",
       "      <td>Manhã</td>\n",
       "      <td>2.0</td>\n",
       "      <td>Quarta</td>\n",
       "      <td>2024-01-18</td>\n",
       "      <td>Sim</td>\n",
       "      <td>False</td>\n",
       "      <td>2024-01</td>\n",
       "      <td>2024-01-15/2024-01-21</td>\n",
       "      <td>Baixo</td>\n",
       "    </tr>\n",
       "    <tr>\n",
       "      <th>1</th>\n",
       "      <td>Colaborador_002</td>\n",
       "      <td>Operações</td>\n",
       "      <td>Manhã</td>\n",
       "      <td>1.0</td>\n",
       "      <td>Segunda</td>\n",
       "      <td>2024-03-20</td>\n",
       "      <td>Não</td>\n",
       "      <td>False</td>\n",
       "      <td>2024-03</td>\n",
       "      <td>2024-03-18/2024-03-24</td>\n",
       "      <td>Baixo</td>\n",
       "    </tr>\n",
       "    <tr>\n",
       "      <th>2</th>\n",
       "      <td>Colaborador_003</td>\n",
       "      <td>Vendas</td>\n",
       "      <td>Manhã</td>\n",
       "      <td>3.0</td>\n",
       "      <td>Segunda</td>\n",
       "      <td>2024-03-10</td>\n",
       "      <td>Não</td>\n",
       "      <td>False</td>\n",
       "      <td>2024-03</td>\n",
       "      <td>2024-03-04/2024-03-10</td>\n",
       "      <td>Moderado</td>\n",
       "    </tr>\n",
       "    <tr>\n",
       "      <th>3</th>\n",
       "      <td>Colaborador_004</td>\n",
       "      <td>Marketing</td>\n",
       "      <td>Manhã</td>\n",
       "      <td>3.0</td>\n",
       "      <td>Segunda</td>\n",
       "      <td>2024-01-21</td>\n",
       "      <td>Não</td>\n",
       "      <td>False</td>\n",
       "      <td>2024-01</td>\n",
       "      <td>2024-01-15/2024-01-21</td>\n",
       "      <td>Moderado</td>\n",
       "    </tr>\n",
       "    <tr>\n",
       "      <th>4</th>\n",
       "      <td>Colaborador_005</td>\n",
       "      <td>RH</td>\n",
       "      <td>Manhã</td>\n",
       "      <td>1.0</td>\n",
       "      <td>Quarta</td>\n",
       "      <td>2024-02-18</td>\n",
       "      <td>Não</td>\n",
       "      <td>False</td>\n",
       "      <td>2024-02</td>\n",
       "      <td>2024-02-12/2024-02-18</td>\n",
       "      <td>Baixo</td>\n",
       "    </tr>\n",
       "    <tr>\n",
       "      <th>...</th>\n",
       "      <td>...</td>\n",
       "      <td>...</td>\n",
       "      <td>...</td>\n",
       "      <td>...</td>\n",
       "      <td>...</td>\n",
       "      <td>...</td>\n",
       "      <td>...</td>\n",
       "      <td>...</td>\n",
       "      <td>...</td>\n",
       "      <td>...</td>\n",
       "      <td>...</td>\n",
       "    </tr>\n",
       "    <tr>\n",
       "      <th>214</th>\n",
       "      <td>Colaborador_215</td>\n",
       "      <td>Operações</td>\n",
       "      <td>Tarde</td>\n",
       "      <td>3.0</td>\n",
       "      <td>Segunda</td>\n",
       "      <td>2024-02-09</td>\n",
       "      <td>Não</td>\n",
       "      <td>False</td>\n",
       "      <td>2024-02</td>\n",
       "      <td>2024-02-05/2024-02-11</td>\n",
       "      <td>Moderado</td>\n",
       "    </tr>\n",
       "    <tr>\n",
       "      <th>215</th>\n",
       "      <td>Colaborador_216</td>\n",
       "      <td>Operações</td>\n",
       "      <td>Manhã</td>\n",
       "      <td>1.0</td>\n",
       "      <td>Segunda</td>\n",
       "      <td>2024-03-28</td>\n",
       "      <td>Não</td>\n",
       "      <td>False</td>\n",
       "      <td>2024-03</td>\n",
       "      <td>2024-03-25/2024-03-31</td>\n",
       "      <td>Baixo</td>\n",
       "    </tr>\n",
       "    <tr>\n",
       "      <th>216</th>\n",
       "      <td>Colaborador_217</td>\n",
       "      <td>Financeiro</td>\n",
       "      <td>Tarde</td>\n",
       "      <td>2.0</td>\n",
       "      <td>Segunda</td>\n",
       "      <td>2024-01-24</td>\n",
       "      <td>Não</td>\n",
       "      <td>False</td>\n",
       "      <td>2024-01</td>\n",
       "      <td>2024-01-22/2024-01-28</td>\n",
       "      <td>Baixo</td>\n",
       "    </tr>\n",
       "    <tr>\n",
       "      <th>217</th>\n",
       "      <td>Colaborador_218</td>\n",
       "      <td>RH</td>\n",
       "      <td>Tarde</td>\n",
       "      <td>1.0</td>\n",
       "      <td>Terça</td>\n",
       "      <td>2024-02-07</td>\n",
       "      <td>Não</td>\n",
       "      <td>False</td>\n",
       "      <td>2024-02</td>\n",
       "      <td>2024-02-05/2024-02-11</td>\n",
       "      <td>Baixo</td>\n",
       "    </tr>\n",
       "    <tr>\n",
       "      <th>218</th>\n",
       "      <td>Colaborador_219</td>\n",
       "      <td>Financeiro</td>\n",
       "      <td>Manhã</td>\n",
       "      <td>0.0</td>\n",
       "      <td>Sexta</td>\n",
       "      <td>2024-02-18</td>\n",
       "      <td>Não</td>\n",
       "      <td>False</td>\n",
       "      <td>2024-02</td>\n",
       "      <td>2024-02-12/2024-02-18</td>\n",
       "      <td>Baixo</td>\n",
       "    </tr>\n",
       "  </tbody>\n",
       "</table>\n",
       "<p>219 rows × 11 columns</p>\n",
       "</div>"
      ],
      "text/plain": [
       "                Nome Departamento  Turno  Faltas Dia_da_Semana_Ultima_Falta  \\\n",
       "0    Colaborador_001    Operações  Manhã     2.0                     Quarta   \n",
       "1    Colaborador_002    Operações  Manhã     1.0                    Segunda   \n",
       "2    Colaborador_003       Vendas  Manhã     3.0                    Segunda   \n",
       "3    Colaborador_004    Marketing  Manhã     3.0                    Segunda   \n",
       "4    Colaborador_005           RH  Manhã     1.0                     Quarta   \n",
       "..               ...          ...    ...     ...                        ...   \n",
       "214  Colaborador_215    Operações  Tarde     3.0                    Segunda   \n",
       "215  Colaborador_216    Operações  Manhã     1.0                    Segunda   \n",
       "216  Colaborador_217   Financeiro  Tarde     2.0                    Segunda   \n",
       "217  Colaborador_218           RH  Tarde     1.0                      Terça   \n",
       "218  Colaborador_219   Financeiro  Manhã     0.0                      Sexta   \n",
       "\n",
       "    Data_Ultima_Falta Evadiu  Faltas_Suspeitas Mes_Falta  \\\n",
       "0          2024-01-18    Sim             False   2024-01   \n",
       "1          2024-03-20    Não             False   2024-03   \n",
       "2          2024-03-10    Não             False   2024-03   \n",
       "3          2024-01-21    Não             False   2024-01   \n",
       "4          2024-02-18    Não             False   2024-02   \n",
       "..                ...    ...               ...       ...   \n",
       "214        2024-02-09    Não             False   2024-02   \n",
       "215        2024-03-28    Não             False   2024-03   \n",
       "216        2024-01-24    Não             False   2024-01   \n",
       "217        2024-02-07    Não             False   2024-02   \n",
       "218        2024-02-18    Não             False   2024-02   \n",
       "\n",
       "       Semana_Ultima_Falta Risco_Evasao  \n",
       "0    2024-01-15/2024-01-21        Baixo  \n",
       "1    2024-03-18/2024-03-24        Baixo  \n",
       "2    2024-03-04/2024-03-10     Moderado  \n",
       "3    2024-01-15/2024-01-21     Moderado  \n",
       "4    2024-02-12/2024-02-18        Baixo  \n",
       "..                     ...          ...  \n",
       "214  2024-02-05/2024-02-11     Moderado  \n",
       "215  2024-03-25/2024-03-31        Baixo  \n",
       "216  2024-01-22/2024-01-28        Baixo  \n",
       "217  2024-02-05/2024-02-11        Baixo  \n",
       "218  2024-02-12/2024-02-18        Baixo  \n",
       "\n",
       "[219 rows x 11 columns]"
      ]
     },
     "execution_count": 54,
     "metadata": {},
     "output_type": "execute_result"
    }
   ],
   "source": [
    "#criando a coluna de riscos_evasao\n",
    "\n",
    "df['Risco_Evasao'] = pd.cut(df['Faltas'], bins=[-1,2,5,16], labels=['Baixo', 'Moderado', 'Alto'])\n",
    "df"
   ]
  },
  {
   "cell_type": "code",
   "execution_count": 55,
   "metadata": {},
   "outputs": [
    {
     "name": "stderr",
     "output_type": "stream",
     "text": [
      "C:\\Users\\44581098807\\AppData\\Local\\Temp\\ipykernel_18172\\460168463.py:3: FutureWarning: The default of observed=False is deprecated and will be changed to True in a future version of pandas. Pass observed=False to retain current behavior or observed=True to adopt the future default and silence this warning.\n",
      "  distribuicao = df.groupby(['Departamento', 'Risco_Evasao']).size().unstack()\n"
     ]
    },
    {
     "data": {
      "text/html": [
       "<div>\n",
       "<style scoped>\n",
       "    .dataframe tbody tr th:only-of-type {\n",
       "        vertical-align: middle;\n",
       "    }\n",
       "\n",
       "    .dataframe tbody tr th {\n",
       "        vertical-align: top;\n",
       "    }\n",
       "\n",
       "    .dataframe thead th {\n",
       "        text-align: right;\n",
       "    }\n",
       "</style>\n",
       "<table border=\"1\" class=\"dataframe\">\n",
       "  <thead>\n",
       "    <tr style=\"text-align: right;\">\n",
       "      <th>Risco_Evasao</th>\n",
       "      <th>Baixo</th>\n",
       "      <th>Moderado</th>\n",
       "      <th>Alto</th>\n",
       "    </tr>\n",
       "    <tr>\n",
       "      <th>Departamento</th>\n",
       "      <th></th>\n",
       "      <th></th>\n",
       "      <th></th>\n",
       "    </tr>\n",
       "  </thead>\n",
       "  <tbody>\n",
       "    <tr>\n",
       "      <th>Financeiro</th>\n",
       "      <td>26</td>\n",
       "      <td>9</td>\n",
       "      <td>0</td>\n",
       "    </tr>\n",
       "    <tr>\n",
       "      <th>Marketing</th>\n",
       "      <td>30</td>\n",
       "      <td>11</td>\n",
       "      <td>0</td>\n",
       "    </tr>\n",
       "    <tr>\n",
       "      <th>Operações</th>\n",
       "      <td>39</td>\n",
       "      <td>13</td>\n",
       "      <td>0</td>\n",
       "    </tr>\n",
       "    <tr>\n",
       "      <th>RH</th>\n",
       "      <td>21</td>\n",
       "      <td>10</td>\n",
       "      <td>0</td>\n",
       "    </tr>\n",
       "    <tr>\n",
       "      <th>TI</th>\n",
       "      <td>20</td>\n",
       "      <td>10</td>\n",
       "      <td>0</td>\n",
       "    </tr>\n",
       "    <tr>\n",
       "      <th>Vendas</th>\n",
       "      <td>20</td>\n",
       "      <td>9</td>\n",
       "      <td>1</td>\n",
       "    </tr>\n",
       "  </tbody>\n",
       "</table>\n",
       "</div>"
      ],
      "text/plain": [
       "Risco_Evasao  Baixo  Moderado  Alto\n",
       "Departamento                       \n",
       "Financeiro       26         9     0\n",
       "Marketing        30        11     0\n",
       "Operações        39        13     0\n",
       "RH               21        10     0\n",
       "TI               20        10     0\n",
       "Vendas           20         9     1"
      ]
     },
     "metadata": {},
     "output_type": "display_data"
    }
   ],
   "source": [
    "#gerando tabela com a distribuição percentual de risco por departamento.\n",
    "\n",
    "distribuicao = df.groupby(['Departamento', 'Risco_Evasao']).size().unstack()\n",
    "display(distribuicao)"
   ]
  },
  {
   "cell_type": "code",
   "execution_count": 57,
   "metadata": {},
   "outputs": [
    {
     "name": "stderr",
     "output_type": "stream",
     "text": [
      "C:\\Users\\44581098807\\AppData\\Local\\Temp\\ipykernel_18172\\2283820421.py:3: FutureWarning: The default of observed=False is deprecated and will be changed to True in a future version of pandas. Pass observed=False to retain current behavior or observed=True to adopt the future default and silence this warning.\n",
      "  distribuicao = df.groupby(['Turno', 'Risco_Evasao']).size().unstack()\n"
     ]
    },
    {
     "data": {
      "text/html": [
       "<div>\n",
       "<style scoped>\n",
       "    .dataframe tbody tr th:only-of-type {\n",
       "        vertical-align: middle;\n",
       "    }\n",
       "\n",
       "    .dataframe tbody tr th {\n",
       "        vertical-align: top;\n",
       "    }\n",
       "\n",
       "    .dataframe thead th {\n",
       "        text-align: right;\n",
       "    }\n",
       "</style>\n",
       "<table border=\"1\" class=\"dataframe\">\n",
       "  <thead>\n",
       "    <tr style=\"text-align: right;\">\n",
       "      <th>Risco_Evasao</th>\n",
       "      <th>Baixo</th>\n",
       "      <th>Moderado</th>\n",
       "      <th>Alto</th>\n",
       "    </tr>\n",
       "    <tr>\n",
       "      <th>Turno</th>\n",
       "      <th></th>\n",
       "      <th></th>\n",
       "      <th></th>\n",
       "    </tr>\n",
       "  </thead>\n",
       "  <tbody>\n",
       "    <tr>\n",
       "      <th>Manhã</th>\n",
       "      <td>76</td>\n",
       "      <td>29</td>\n",
       "      <td>1</td>\n",
       "    </tr>\n",
       "    <tr>\n",
       "      <th>Tarde</th>\n",
       "      <td>80</td>\n",
       "      <td>33</td>\n",
       "      <td>0</td>\n",
       "    </tr>\n",
       "  </tbody>\n",
       "</table>\n",
       "</div>"
      ],
      "text/plain": [
       "Risco_Evasao  Baixo  Moderado  Alto\n",
       "Turno                              \n",
       "Manhã            76        29     1\n",
       "Tarde            80        33     0"
      ]
     },
     "metadata": {},
     "output_type": "display_data"
    }
   ],
   "source": [
    "# relação entre risco alto e turno da tarde\n",
    "  # não há relação\n",
    "\n",
    "distribuicao = df.groupby(['Turno', 'Risco_Evasao']).size().unstack()\n",
    "\n",
    "display(distribuicao)"
   ]
  },
  {
   "cell_type": "code",
   "execution_count": 81,
   "metadata": {},
   "outputs": [
    {
     "data": {
      "text/plain": [
       "Departamento\n",
       "Financeiro    35\n",
       "Marketing     41\n",
       "Operações     52\n",
       "RH            31\n",
       "TI            30\n",
       "Vendas        30\n",
       "Name: Faltas, dtype: int64"
      ]
     },
     "metadata": {},
     "output_type": "display_data"
    },
    {
     "data": {
      "text/plain": [
       "Text(0, 0.5, 'Total de Faltas')"
      ]
     },
     "execution_count": 81,
     "metadata": {},
     "output_type": "execute_result"
    },
    {
     "data": {
      "image/png": "[encoded data removed]",
      "text/plain": [
       "<Figure size 1000x500 with 1 Axes>"
      ]
     },
     "metadata": {},
     "output_type": "display_data"
    }
   ],
   "source": [
    "#Gráfico de barras: número de faltas por departamento.\n",
    "\n",
    "faltas_departamento = df.groupby('Departamento')['Faltas'].size()\n",
    "display(faltas_departamento)\n",
    "faltas_departamento.plot(kind='bar', figsize=(10,5), colormap='summer')\n",
    "plt.xticks(rotation=45)\n",
    "plt.grid(axis='y')\n",
    "\n",
    "plt.title('Faltas por Departamento')\n",
    "plt.ylabel('Total de Faltas')"
   ]
  },
  {
   "cell_type": "code",
   "execution_count": 80,
   "metadata": {},
   "outputs": [
    {
     "name": "stderr",
     "output_type": "stream",
     "text": [
      "C:\\Users\\44581098807\\AppData\\Local\\Temp\\ipykernel_18172\\311943943.py:3: FutureWarning: The default of observed=False is deprecated and will be changed to True in a future version of pandas. Pass observed=False to retain current behavior or observed=True to adopt the future default and silence this warning.\n",
      "  distribuicao_geral_risco = df.groupby('Risco_Evasao').size()\n"
     ]
    },
    {
     "data": {
      "text/plain": [
       "(np.float64(-1.0999966360403255),\n",
       " np.float64(1.0999998398114441),\n",
       " np.float64(-1.0999989802562382),\n",
       " np.float64(1.099999008919067))"
      ]
     },
     "execution_count": 80,
     "metadata": {},
     "output_type": "execute_result"
    },
    {
     "data": {
      "image/png": "[encoded data removed]",
      "text/plain": [
       "<Figure size 500x500 with 1 Axes>"
      ]
     },
     "metadata": {},
     "output_type": "display_data"
    }
   ],
   "source": [
    "#Gráfico de pizza: distribuição de risco de evasão.\n",
    "\n",
    "distribuicao_geral_risco = df.groupby('Risco_Evasao').size()\n",
    "\n",
    "\n",
    "distribuicao_geral_risco.plot(kind='pie', figsize=(5,5), colormap='summer', subplots=True, autopct='%1.1f%%')\n",
    "plt.title('Distribuição Geral de Risco de Evasão')\n",
    "plt.axis('equal')\n"
   ]
  },
  {
   "cell_type": "code",
   "execution_count": 89,
   "metadata": {},
   "outputs": [
    {
     "data": {
      "image/png": "[encoded data removed]",
      "text/plain": [
       "<Figure size 800x500 with 2 Axes>"
      ]
     },
     "metadata": {},
     "output_type": "display_data"
    }
   ],
   "source": [
    "#Heatmap cruzando Turno e Risco_Evasao.\n",
    "\n",
    "plt.figure(figsize=(8, 5))\n",
    "\n",
    "plt.imshow(distribuicao, cmap='jet', aspect='auto')\n",
    "\n",
    "plt.xticks(ticks=range(distribuicao.shape[1]), labels=distribuicao.columns)\n",
    "plt.yticks(ticks=range(distribuicao.shape[0]), labels=distribuicao.index)\n",
    "\n",
    "plt.colorbar(label='Quantidade')\n",
    "plt.title('Heatmap: Turno vs Risco de Evasão')\n",
    "plt.xlabel('Risco de Evasão')\n",
    "plt.ylabel('Turno')\n",
    "plt.show()\n"
   ]
  }
 ],
 "metadata": {
  "language_info": {
   "name": "python"
  }
 },
 "nbformat": 4,
 "nbformat_minor": 2
}
