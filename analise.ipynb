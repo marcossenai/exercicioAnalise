{
 "cells": [
  {
   "cell_type": "code",
   "execution_count": null,
   "metadata": {},
   "outputs": [],
   "source": [
    "import pandas as pd\n",
    "import matplotlib.pyplot as plt\n",
    "\n",
    "df = pd.read_excel(\"vendas_limpo.xlsx\")\n"
   ]
  },
  {
   "cell_type": "code",
   "execution_count": null,
   "metadata": {},
   "outputs": [],
   "source": [
    "# 1. Total de vendas por loja - Agrupar por loja e somar o valor total vendido\n",
    "total_valor_vendas_loja = df.groupby('loja')['valor_venda'].sum()\n",
    "\n",
    "print(total_valor_vendas_loja)\n",
    "\n",
    "total_valor_vendas_loja.plot(kind='bar', color='green')\n",
    "plt.title('Valor total de vendas por loja')\n",
    "plt.xlabel('Loja')\n",
    "plt.ylabel('Valor total de vendas')\n",
    "plt.xticks(rotation=45)\n",
    "plt.grid(axis='y')\n",
    "plt.show() "
   ]
  },
  {
   "cell_type": "code",
   "execution_count": null,
   "metadata": {},
   "outputs": [],
   "source": [
    "#2. Evolução mensal de vendas -  Identificar sazonalidades e picos mensais.\n",
    "\n",
    "df_analise = df\n",
    "df_analise['data_mensal'] = df_analise['data'].dt.to_period('M')\n",
    "tab_vendas_mensais = df.groupby(['data_mensal', 'categoria'])['valor_venda'].sum().unstack()\n",
    "print(tab_vendas_mensais)\n",
    "\n",
    "\n",
    "tab_vendas_mensais.plot(kind='bar', colormap='Pastel2', figsize=(10,5))\n",
    "plt.title('Evolução mensal de vendas')\n",
    "plt.xlabel('Mês')\n",
    "plt.ylabel('Valor de vendas(R$)')\n",
    "plt.xticks(rotation=25)\n",
    "plt.grid(axis= 'y')\n",
    "plt.show()"
   ]
  },
  {
   "cell_type": "code",
   "execution_count": null,
   "metadata": {},
   "outputs": [],
   "source": [
    "#3. Agrupar por mês e somar vendas\n",
    "df_analise['data_mensal'] = df_analise['data'].dt.strftime('%Y-%m')  # Transforma em string\n",
    "\n",
    "tab_vendas_mensais = df.groupby(['data_mensal'])['valor_venda'].sum()\n",
    "\n",
    "tab_vendas_mensais.plot(kind='line',\n",
    "                        figsize=(10, 5),\n",
    "                        color='red',\n",
    "                        marker='o')\n",
    "plt.title('Total de vendas por mês')\n",
    "plt.xlabel('Mês')\n",
    "plt.ylabel('Valor de vendas (R$)')\n",
    "plt.xticks(rotation=30)\n",
    "plt.grid(True)\n",
    "\n"
   ]
  },
  {
   "cell_type": "code",
   "execution_count": null,
   "metadata": {},
   "outputs": [],
   "source": [
    "# 4. ixa.Produtos mais vendidos (por volume) Objetivo: saber o que mais sai no ca\n",
    "quantidade_produtos_vendidos = df.groupby('produto')['quantidade'].sum().sort_values()\n",
    "\n",
    "quantidade_produtos_vendidos.plot(kind='bar', figsize=(10,5))\n",
    "plt.title('Volume de produtos vendidos por categoria')\n",
    "plt.ylabel('Quantidade vendida')\n",
    "plt.xlabel('Produto')\n",
    "plt.grid(axis='y', linestyle='--')\n",
    "plt.show()"
   ]
  },
  {
   "cell_type": "code",
   "execution_count": null,
   "metadata": {},
   "outputs": [],
   "source": [
    "#5. Comparação entre categorias. Objetivo: analisar quais categorias são mais lucrativas.\n",
    "lucro_categoria = df.groupby('categoria')['valor_venda'].sum().sort_values()\n",
    "lucro_categoria.plot(kind='barh', figsize=(12,3), colormap='Set2')\n",
    "plt.title('Lucro por Categoria de produto')\n",
    "plt.xlabel('Valor total de vendas')\n",
    "plt.ylabel('Categoria de produtos')\n",
    "plt.grid(axis='x', linestyle='-')\n",
    "plt.show()"
   ]
  },
  {
   "cell_type": "code",
   "execution_count": null,
   "metadata": {},
   "outputs": [],
   "source": [
    "# 6. Comparação entre lojas por categoria. Objetivo: avaliar se há especialização ou foco\n",
    "# diferente entre as lojas, com base nas categorias que mais vendem.\n",
    "\n",
    "categoria_lojas = df.groupby(['loja', 'categoria'])['quantidade'].sum().unstack()\n",
    "categoria_lojas.plot(kind='bar', figsize=(10, 5), colormap='inferno')\n",
    "plt.title('Análise de Especialização por Categoria nas Lojas')\n",
    "plt.xticks(rotation=45)\n",
    "plt.xlabel('Loja')\n",
    "plt.ylabel('Quantidade de produtos da categoria')\n",
    "plt.grid(axis='y', linestyle='-')\n",
    "plt.show()"
   ]
  },
  {
   "cell_type": "code",
   "execution_count": null,
   "metadata": {},
   "outputs": [],
   "source": [
    "#7. # 7. Plotar como gráfico de barras empilhadas\n",
    "categoria_lojas.plot(kind='bar', stacked=True, figsize=(12,6), colormap='inferno')\n",
    "plt.title('Análise de Especialização por Categoria nas Lojas')\n",
    "plt.ylabel('Quantidade de produtos da categoria')\n",
    "plt.xticks(rotation=45)\n",
    "plt.xlabel('Loja')\n",
    "plt.ylabel('Quantidade de produtos da categoria')\n",
    "plt.grid(axis='y', linestyle='-')\n",
    "plt.show()"
   ]
  }
 ],
 "metadata": {
  "kernelspec": {
   "display_name": "Python 3",
   "language": "python",
   "name": "python3"
  },
  "language_info": {
   "codemirror_mode": {
    "name": "ipython",
    "version": 3
   },
   "file_extension": ".py",
   "mimetype": "text/x-python",
   "name": "python",
   "nbconvert_exporter": "python",
   "pygments_lexer": "ipython3",
   "version": "3.12.1"
  }
 },
 "nbformat": 4,
 "nbformat_minor": 2
}
